{
  "nbformat": 4,
  "nbformat_minor": 0,
  "metadata": {
    "colab": {
      "provenance": []
    },
    "kernelspec": {
      "name": "python3",
      "display_name": "Python 3"
    },
    "language_info": {
      "name": "python"
    }
  },
  "cells": [
    {
      "cell_type": "markdown",
      "source": [
        "# Data Structures\n",
        "\n",
        "1. What are data structures, and why are they important?\n",
        "    - data structures like lists, tuples, sets, and dictionaries organize data efficiently, making storage, retrieval, and manipulation easier.\n",
        "\n",
        "2. Explain the difference between mutable and immutable data types with examples.\n",
        "    - Mutable types like list, dictionary etc can be modified after creation, while immutable types like tuple, str, int cannot be changed.\n",
        "\n",
        "3. What are the main differences between lists and tuples in Python3?\n",
        "    - A list is mutable and allows modifications, while a tuple is immutable and generally faster.\n",
        "\n",
        "4. Describe how dictionaries store data.\n",
        "    - Dictionaries are stored ashash tables to store data as key: value pairs, allowing quick access by keys.\n",
        "\n",
        "5. Why might you use a set instead of a list in Python3\n",
        "    - A set automatically removes duplicates and provides faster membership checking\n",
        "\n",
        "6. What is a string in Python, and how is it different from a list?\n",
        "    - A string is an immutable sequence of characters, while a list is a mutable sequence of items of any type.\n",
        "\n",
        "7. How do tuples ensure data integrity in Python?\n",
        "    - Since tuples are immutable, their contents cannot be altered, ensuring fixed, reliable data storage.\n",
        "\n",
        "8. What is a hash table, and how does it relate to dictionaries in Python?\n",
        "    - A hash table maps keys to values using a hash function, and Python’s dict is implemented using this structure.\n",
        "\n",
        "9. Can lists contain different data types in Python?\n",
        "    - Yes, a list can contain mixed data types, e.g., [1, \"hello\", 3.5].\n",
        "\n",
        "10. Explain why strings are immutable in Python?\n",
        "    - Strings are immutable to ensure memory efficiency, thread-safety, and to allow their use as dictionary keys\n",
        "\n",
        "11. What advantages do dictionaries offer over lists for certain tasks?\n",
        "    - dict provides O(1) lookups by key, while lists require O(n) searches for values.\n",
        "\n",
        "12. Describe a scenario where using a tuple would be preferable over a list.\n",
        "    - Use a tuple for fixed data like coordinates (x, y)\n",
        "\n",
        "13. How do sets handle duplicate values in Python?\n",
        "    - A set stores only unique values, automatically discarding duplicates.\n",
        "\n",
        "14. How does the “in” keyword work differently for lists and dictionaries?\n",
        "    - For a list, in checks if a value exists; for a dict, in checks if a key exists.\n",
        "\n",
        "15. Can you modify the elements of a tuple? Explain why or why not?\n",
        "    - No, because tuple is immutable—its contents cannot be changed after creation.\n",
        "\n",
        "16. What is a nested dictionary, and give an example of its use case?\n",
        "    - A nested dict has dictionaries inside it, e.g., students = {\"John\": {\"age\": 20, \"grade\": \"A\"}}\n",
        "\n",
        "17. Describe the time complexity of accessing elements in a dictionary?\n",
        "    - Average case access in a dict is O(1) due to hashing.\n",
        "\n",
        "18. In what situations are lists preferred over dictionaries?\n",
        "    - Use a list when order matters, duplicates are needed, or index-based access is required.\n",
        "\n",
        "19. Why are dictionaries considered unordered, and how does that affect data retrieval?\n",
        "    -> Before Python 3.7, dictionaries were unordered; from 3.7+, insertion order is preserved, but retrieval is still by key, not index.\n",
        "\n",
        "20. Explain the difference between a list and a dictionary in terms of data retrieval.\n",
        "    - A list retrieves elements by index, while a dict retrieves elements by key."
      ],
      "metadata": {
        "id": "rlJ0u4y8VDNd"
      }
    },
    {
      "cell_type": "code",
      "execution_count": 1,
      "metadata": {
        "colab": {
          "base_uri": "https://localhost:8080/"
        },
        "id": "8bK3u4TfUPEw",
        "outputId": "e4cd7c89-d441-4262-ac88-0529563a0d66"
      },
      "outputs": [
        {
          "output_type": "stream",
          "name": "stdout",
          "text": [
            "Palash Rammaiya\n"
          ]
        }
      ],
      "source": [
        "# 01. Write a code to create a string with your name and print it\n",
        "\n",
        "name = \"Palash Rammaiya\"\n",
        "print(name)"
      ]
    },
    {
      "cell_type": "code",
      "source": [
        "# 02. Write a code to find the length of the string \"Hello World\"\n",
        "\n",
        "string = \"Hello World\"\n",
        "print(len(string))"
      ],
      "metadata": {
        "colab": {
          "base_uri": "https://localhost:8080/"
        },
        "id": "BTw0RjX3XfQ0",
        "outputId": "0f0f8a48-cbd7-40ff-ee10-95aeb9fde920"
      },
      "execution_count": 2,
      "outputs": [
        {
          "output_type": "stream",
          "name": "stdout",
          "text": [
            "11\n"
          ]
        }
      ]
    },
    {
      "cell_type": "code",
      "source": [
        "# 03. Write a code to slice the first 3 characters from the string \"Python Programming\"\n",
        "\n",
        "s = \"Python Programming\"\n",
        "print(s[0:3])"
      ],
      "metadata": {
        "colab": {
          "base_uri": "https://localhost:8080/"
        },
        "id": "S86wVbGiXsG1",
        "outputId": "af877177-0398-439c-b293-73d6373aec11"
      },
      "execution_count": 3,
      "outputs": [
        {
          "output_type": "stream",
          "name": "stdout",
          "text": [
            "Pyt\n"
          ]
        }
      ]
    },
    {
      "cell_type": "code",
      "source": [
        "# 04. P Write a code to convert the string \"hello\" to uppercase\n",
        "\n",
        "st = \"hello\"\n",
        "print(st.upper())"
      ],
      "metadata": {
        "colab": {
          "base_uri": "https://localhost:8080/"
        },
        "id": "u4ydKVXDX9w9",
        "outputId": "df322778-c745-42fd-c1cc-ceb420431efa"
      },
      "execution_count": 4,
      "outputs": [
        {
          "output_type": "stream",
          "name": "stdout",
          "text": [
            "HELLO\n"
          ]
        }
      ]
    },
    {
      "cell_type": "code",
      "source": [
        " # 05. Write a code to replace the word \"apple\" with \"orange\" in the string \"I like apple\"\n",
        "\n",
        " string = \"I like apple\"\n",
        " print(string.replace(\"apple\", \"orange\"))"
      ],
      "metadata": {
        "colab": {
          "base_uri": "https://localhost:8080/"
        },
        "id": "Pv3hr6T0YIPN",
        "outputId": "02554824-e29f-4fef-b025-9ef8bc17d735"
      },
      "execution_count": 5,
      "outputs": [
        {
          "output_type": "stream",
          "name": "stdout",
          "text": [
            "I like orange\n"
          ]
        }
      ]
    },
    {
      "cell_type": "code",
      "source": [
        "# 06. Write a code to create a list with numbers 1 to 5 and print it\n",
        "\n",
        "l = [1,2,3,4,5]\n",
        "print(l)"
      ],
      "metadata": {
        "colab": {
          "base_uri": "https://localhost:8080/"
        },
        "id": "FzUU43CwYoCu",
        "outputId": "604cb924-de03-43f3-8cc9-2b41484e969b"
      },
      "execution_count": 6,
      "outputs": [
        {
          "output_type": "stream",
          "name": "stdout",
          "text": [
            "[1, 2, 3, 4, 5]\n"
          ]
        }
      ]
    },
    {
      "cell_type": "code",
      "source": [
        "# 07. Write a code to append the number 10 to the list [1, 2, 3, 4]\n",
        "\n",
        "list = [1,2,3,4]\n",
        "list.append(10)\n",
        "print(list)"
      ],
      "metadata": {
        "colab": {
          "base_uri": "https://localhost:8080/"
        },
        "id": "W8eKXMLLZwj6",
        "outputId": "bb9cb380-b397-49b3-858d-f0f4493eb265"
      },
      "execution_count": 7,
      "outputs": [
        {
          "output_type": "stream",
          "name": "stdout",
          "text": [
            "[1, 2, 3, 4, 10]\n"
          ]
        }
      ]
    },
    {
      "cell_type": "code",
      "source": [
        "# 08. Write a code to remove the number 3 from the list [1, 2, 3, 4, 5]\n",
        "\n",
        "lst = [1,2,3,4,5]\n",
        "lst.remove(3)\n",
        "print(lst)"
      ],
      "metadata": {
        "colab": {
          "base_uri": "https://localhost:8080/"
        },
        "id": "gPDshjJVZ7vs",
        "outputId": "9536a935-f92b-4cbf-fc29-9d57d2aba3e7"
      },
      "execution_count": 10,
      "outputs": [
        {
          "output_type": "stream",
          "name": "stdout",
          "text": [
            "[1, 2, 4, 5]\n"
          ]
        }
      ]
    },
    {
      "cell_type": "code",
      "source": [
        "# 09. Write a code to access the second element in the list ['a', 'b', 'c', 'd']\n",
        "\n",
        "list = ['a', 'b', 'c', 'd']\n",
        "print(list[1])"
      ],
      "metadata": {
        "colab": {
          "base_uri": "https://localhost:8080/"
        },
        "id": "J-Rg2dfvp3yi",
        "outputId": "4a9e206c-23a5-4880-cf57-f0a094d892fa"
      },
      "execution_count": 11,
      "outputs": [
        {
          "output_type": "stream",
          "name": "stdout",
          "text": [
            "b\n"
          ]
        }
      ]
    },
    {
      "cell_type": "code",
      "source": [
        "# 10. Write a code to reverse the list [10, 20, 30, 40, 50]\n",
        "\n",
        "list = [10,20,30,40,50]\n",
        "list.reverse()\n",
        "print(list)"
      ],
      "metadata": {
        "colab": {
          "base_uri": "https://localhost:8080/"
        },
        "id": "M3akbV1_aaxF",
        "outputId": "8b07e76c-5f74-4a6d-a1eb-c494dfec9aed"
      },
      "execution_count": 12,
      "outputs": [
        {
          "output_type": "stream",
          "name": "stdout",
          "text": [
            "[50, 40, 30, 20, 10]\n"
          ]
        }
      ]
    },
    {
      "cell_type": "code",
      "source": [
        "# 11. Write a code to create a tuple with the elements 100, 200, 300 and print it\n",
        "\n",
        "ele = (100,200,300 )\n",
        "print(ele)"
      ],
      "metadata": {
        "colab": {
          "base_uri": "https://localhost:8080/"
        },
        "id": "jV_kKIBGseDx",
        "outputId": "c04698e0-da72-414d-c893-136854cbc8e1"
      },
      "execution_count": 13,
      "outputs": [
        {
          "output_type": "stream",
          "name": "stdout",
          "text": [
            "(100, 200, 300)\n"
          ]
        }
      ]
    },
    {
      "cell_type": "code",
      "source": [
        "# 12.  Write a code to access the second-to-last element of the tuple ('red', 'green', 'blue', 'yellow')\n",
        "\n",
        "tup = ('red', 'green', 'blue', 'yellow')\n",
        "print(tup[-2])"
      ],
      "metadata": {
        "colab": {
          "base_uri": "https://localhost:8080/"
        },
        "id": "pXtXX_gbtJfB",
        "outputId": "2f4f5428-0aa3-479d-ba22-285dae0ec41d"
      },
      "execution_count": 14,
      "outputs": [
        {
          "output_type": "stream",
          "name": "stdout",
          "text": [
            "blue\n"
          ]
        }
      ]
    },
    {
      "cell_type": "code",
      "source": [
        "# 13.  Write a code to find the minimum number in the tuple (10, 20, 5, 15)\n",
        "\n",
        "t = (10,20,5,15)\n",
        "print(min(t))"
      ],
      "metadata": {
        "colab": {
          "base_uri": "https://localhost:8080/"
        },
        "id": "HLSsNk1RtcXd",
        "outputId": "02a21191-1c6b-4585-aeb6-d3c193cb0240"
      },
      "execution_count": 15,
      "outputs": [
        {
          "output_type": "stream",
          "name": "stdout",
          "text": [
            "5\n"
          ]
        }
      ]
    },
    {
      "cell_type": "code",
      "source": [
        "# 14.  Write a code to find the index of the element \"cat\" in the tuple ('dog', 'cat', 'rabbit')\n",
        "\n",
        "i = ('dog', 'cat', 'rabbit')\n",
        "print(i.index('cat'))"
      ],
      "metadata": {
        "colab": {
          "base_uri": "https://localhost:8080/"
        },
        "id": "YrhWegvettC7",
        "outputId": "4af4a668-4be2-4a4d-8c12-f7f84fee1b2a"
      },
      "execution_count": 17,
      "outputs": [
        {
          "output_type": "stream",
          "name": "stdout",
          "text": [
            "1\n"
          ]
        }
      ]
    },
    {
      "cell_type": "code",
      "source": [
        "# 15.  Write a code to create a tuple containing three different fruits and check if \"kiwi\" is in it.\n",
        "\n",
        "t =('kiwi', 'banana', 'orange')\n",
        "print(\"kiwi\" in t)"
      ],
      "metadata": {
        "colab": {
          "base_uri": "https://localhost:8080/"
        },
        "id": "OFtGXtajuB7e",
        "outputId": "ec25c99d-576b-466d-92dc-3000e0cba8b4"
      },
      "execution_count": 19,
      "outputs": [
        {
          "output_type": "stream",
          "name": "stdout",
          "text": [
            "True\n"
          ]
        }
      ]
    },
    {
      "cell_type": "code",
      "source": [
        "# 16.  Write a code to create a set with the elements 'a', 'b', 'c' and print it.\n",
        "\n",
        "s = {'a', 'b', 'c'}\n",
        "print(s)"
      ],
      "metadata": {
        "colab": {
          "base_uri": "https://localhost:8080/"
        },
        "id": "KMq7GiNbuYiX",
        "outputId": "8047999d-7637-4d17-8f01-e2d9640d76f4"
      },
      "execution_count": 20,
      "outputs": [
        {
          "output_type": "stream",
          "name": "stdout",
          "text": [
            "{'b', 'c', 'a'}\n"
          ]
        }
      ]
    },
    {
      "cell_type": "code",
      "source": [
        "# 17.  Write a code to clear all elements from the set {1, 2, 3, 4, 5}.\n",
        "\n",
        "e = {1,2,3,4,5}\n",
        "e.clear()\n",
        "print(e)"
      ],
      "metadata": {
        "colab": {
          "base_uri": "https://localhost:8080/"
        },
        "id": "QxxekdOBuljW",
        "outputId": "b1f44ace-a77c-4c1e-8ba8-c7156147d903"
      },
      "execution_count": 21,
      "outputs": [
        {
          "output_type": "stream",
          "name": "stdout",
          "text": [
            "set()\n"
          ]
        }
      ]
    },
    {
      "cell_type": "code",
      "source": [
        "# 18. Write a code to remove the element 4 from the set {1, 2, 3, 4}.\n",
        "\n",
        "f = {1,2,3,4}\n",
        "f.remove(4)\n",
        "print(f)"
      ],
      "metadata": {
        "colab": {
          "base_uri": "https://localhost:8080/"
        },
        "id": "XpYL1kIhvKJd",
        "outputId": "0f5372cd-0cb0-44ae-cf17-a3c5cac2eca8"
      },
      "execution_count": 22,
      "outputs": [
        {
          "output_type": "stream",
          "name": "stdout",
          "text": [
            "{1, 2, 3}\n"
          ]
        }
      ]
    },
    {
      "cell_type": "code",
      "source": [
        "# 19. Write a code to find the union of two sets {1, 2, 3} and {3, 4, 5}.\n",
        "\n",
        "a = {1,2,3}\n",
        "b = {3,4,5}\n",
        "print(a.union(b))"
      ],
      "metadata": {
        "colab": {
          "base_uri": "https://localhost:8080/"
        },
        "id": "K554C9Bsvb3M",
        "outputId": "8861ce0f-ced7-4e9e-892d-9c6594144094"
      },
      "execution_count": 23,
      "outputs": [
        {
          "output_type": "stream",
          "name": "stdout",
          "text": [
            "{1, 2, 3, 4, 5}\n"
          ]
        }
      ]
    },
    {
      "cell_type": "code",
      "source": [
        "# 20. 0. Write a code to find the intersection of two sets {1, 2, 3} and {2, 3, 4}\n",
        "\n",
        "c = {1,2,3}\n",
        "d = {2,3,4}\n",
        "print(c.intersection(d))"
      ],
      "metadata": {
        "colab": {
          "base_uri": "https://localhost:8080/"
        },
        "id": "T7RdW8u4vtbZ",
        "outputId": "ab180ca6-5efe-44e3-8d51-7a78f9b8b73e"
      },
      "execution_count": 24,
      "outputs": [
        {
          "output_type": "stream",
          "name": "stdout",
          "text": [
            "{2, 3}\n"
          ]
        }
      ]
    },
    {
      "cell_type": "code",
      "source": [
        "# 21.  Write a code to create a dictionary with the keys \"name\", \"age\", and \"city\", and print it.\n",
        "\n",
        "dic = {\"name\": \"Palash\", \"age\": 30, \"city\": \"Kolkata\"}\n",
        "print(dic)"
      ],
      "metadata": {
        "colab": {
          "base_uri": "https://localhost:8080/"
        },
        "id": "_WjJR6_Jv2WV",
        "outputId": "202040e9-6d10-43cf-e970-d677d64c7e51"
      },
      "execution_count": 26,
      "outputs": [
        {
          "output_type": "stream",
          "name": "stdout",
          "text": [
            "{'name': 'Palash', 'age': 30, 'city': 'Kolkata'}\n"
          ]
        }
      ]
    },
    {
      "cell_type": "code",
      "source": [
        "# 22. Write a code to add a new key-value pair \"country\": \"USA\" to the dictionary {'name': 'John', 'age': 25}\n",
        "\n",
        "person = {'name': 'John', 'age': 25}\n",
        "person[\"country\"] = \"USA\"\n",
        "print(person)"
      ],
      "metadata": {
        "colab": {
          "base_uri": "https://localhost:8080/"
        },
        "id": "UVht-adgwcoG",
        "outputId": "cea39978-09ff-466b-9747-99d4671cb8fb"
      },
      "execution_count": 27,
      "outputs": [
        {
          "output_type": "stream",
          "name": "stdout",
          "text": [
            "{'name': 'John', 'age': 25, 'country': 'USA'}\n"
          ]
        }
      ]
    },
    {
      "cell_type": "code",
      "source": [
        "# 23. Write a code to access the value associated with the key \"name\" in the dictionary {'name': 'Alice', 'age': 30}.\n",
        "\n",
        "dic = {'name': 'Alice', 'age': 30}\n",
        "print(dic[\"name\"])"
      ],
      "metadata": {
        "colab": {
          "base_uri": "https://localhost:8080/"
        },
        "id": "7IMgy-BxwuiQ",
        "outputId": "5ab18d4b-0b79-4eee-d8ab-ef5d37f3d765"
      },
      "execution_count": 28,
      "outputs": [
        {
          "output_type": "stream",
          "name": "stdout",
          "text": [
            "Alice\n"
          ]
        }
      ]
    },
    {
      "cell_type": "code",
      "source": [
        "# 24. Write a code to remove the key \"age\" from the dictionary {'name': 'Bob', 'age': 22, 'city': 'New York'}.\n",
        "\n",
        "dic = {'name': 'Bob', 'age': 22, 'city': 'New York'}\n",
        "del dic[\"age\"]\n",
        "print(dic)\n"
      ],
      "metadata": {
        "colab": {
          "base_uri": "https://localhost:8080/"
        },
        "id": "cj1Gv-Dc06F1",
        "outputId": "c39e6acc-05db-4437-ea66-cc9d1d1a80af"
      },
      "execution_count": 29,
      "outputs": [
        {
          "output_type": "stream",
          "name": "stdout",
          "text": [
            "{'name': 'Bob', 'city': 'New York'}\n"
          ]
        }
      ]
    },
    {
      "cell_type": "code",
      "source": [
        "# 25.  Write a code to check if the key \"city\" exists in the dictionary {'name': 'Alice', 'city': 'Paris'}\n",
        "\n",
        "dic = {'name': 'Alice', 'city': 'Paris'}\n",
        "print(\"city\" in dic)"
      ],
      "metadata": {
        "colab": {
          "base_uri": "https://localhost:8080/"
        },
        "id": "YovhmbxK1JW_",
        "outputId": "59f72016-afeb-43ea-af81-510efd065e6b"
      },
      "execution_count": 30,
      "outputs": [
        {
          "output_type": "stream",
          "name": "stdout",
          "text": [
            "True\n"
          ]
        }
      ]
    },
    {
      "cell_type": "code",
      "source": [
        "# 26. Write a code to create a list, a tuple, and a dictionary, and print them all.\n",
        "\n",
        "lst = [1, 2, 3]\n",
        "tpl = (4, 5, 6)\n",
        "dct = {\"a\": 1, \"b\": 2}\n",
        "print(lst, tpl, dct)"
      ],
      "metadata": {
        "colab": {
          "base_uri": "https://localhost:8080/"
        },
        "id": "EFS70hxr1RB6",
        "outputId": "267293be-e3c6-4fc2-eced-b59ff13c7fa9"
      },
      "execution_count": 31,
      "outputs": [
        {
          "output_type": "stream",
          "name": "stdout",
          "text": [
            "[1, 2, 3] (4, 5, 6) {'a': 1, 'b': 2}\n"
          ]
        }
      ]
    },
    {
      "cell_type": "code",
      "source": [
        "# 27. Write a code to create a list of 5 random numbers between 1 and 100, sort it in ascending order, and print the result. (replaced)\n",
        "\n",
        "import random\n",
        "lst = random.sample(range(1,101), 5)\n",
        "lst.sort()\n",
        "print(lst)"
      ],
      "metadata": {
        "colab": {
          "base_uri": "https://localhost:8080/"
        },
        "id": "SeviinCd1Wsw",
        "outputId": "945bbb06-6667-45ec-837a-f48534f26540"
      },
      "execution_count": 32,
      "outputs": [
        {
          "output_type": "stream",
          "name": "stdout",
          "text": [
            "[43, 46, 52, 72, 86]\n"
          ]
        }
      ]
    },
    {
      "cell_type": "code",
      "source": [],
      "metadata": {
        "id": "20Pn_fyG2OaP"
      },
      "execution_count": null,
      "outputs": []
    },
    {
      "cell_type": "code",
      "source": [
        "# 28.  Write a code to create a list with strings and print the element at the third index\n",
        "\n",
        "words = [\"apple\", \"banana\", \"cherry\", \"date\", \"fig\"]\n",
        "print(words[3])"
      ],
      "metadata": {
        "colab": {
          "base_uri": "https://localhost:8080/"
        },
        "id": "WyS8Vgc-14kc",
        "outputId": "3ceb95d3-3807-4600-8929-fb9054a389bc"
      },
      "execution_count": 35,
      "outputs": [
        {
          "output_type": "stream",
          "name": "stdout",
          "text": [
            "date\n"
          ]
        }
      ]
    },
    {
      "cell_type": "code",
      "source": [
        "# 29.  Write a code to combine two dictionaries into one and print the result.\n",
        "\n",
        "dict1 = {\"a\": 1, \"b\": 2}\n",
        "dict2 = {\"c\": 3, \"d\": 4}\n",
        "combined = {**dict1, **dict2}\n",
        "print(combined)"
      ],
      "metadata": {
        "colab": {
          "base_uri": "https://localhost:8080/"
        },
        "id": "cOWTgXi-1834",
        "outputId": "11f99930-8fd3-45b7-c23c-ef52697e5ae5"
      },
      "execution_count": 36,
      "outputs": [
        {
          "output_type": "stream",
          "name": "stdout",
          "text": [
            "{'a': 1, 'b': 2, 'c': 3, 'd': 4}\n"
          ]
        }
      ]
    },
    {
      "cell_type": "code",
      "source": [
        "# 30.  Write a code to convert a list of strings into a set.\n",
        "words = [\"apple\", \"banana\", \"apple\", \"cherry\"]\n",
        "word_set = set(words)\n",
        "print(word_set)"
      ],
      "metadata": {
        "id": "f_H59BgO2XJG"
      },
      "execution_count": 37,
      "outputs": []
    },
    {
      "cell_type": "code",
      "source": [],
      "metadata": {
        "id": "zb0Le0Nv2b_B"
      },
      "execution_count": null,
      "outputs": []
    }
  ]
}